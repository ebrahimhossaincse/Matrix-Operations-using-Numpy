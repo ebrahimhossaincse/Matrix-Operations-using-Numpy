{
 "cells": [
  {
   "metadata": {},
   "cell_type": "markdown",
   "source": "# Dot Product",
   "id": "e32a5cd27039097e"
  },
  {
   "metadata": {},
   "cell_type": "markdown",
   "source": "### Import Library",
   "id": "3524cc29d8ecff4d"
  },
  {
   "cell_type": "code",
   "id": "initial_id",
   "metadata": {
    "collapsed": true,
    "ExecuteTime": {
     "end_time": "2024-11-11T14:41:32.455030Z",
     "start_time": "2024-11-11T14:41:32.335187Z"
    }
   },
   "source": "import numpy as np",
   "outputs": [],
   "execution_count": 1
  },
  {
   "metadata": {},
   "cell_type": "markdown",
   "source": "### Define Matrix",
   "id": "db5dea445f12884b"
  },
  {
   "metadata": {
    "ExecuteTime": {
     "end_time": "2024-11-11T14:41:32.468100Z",
     "start_time": "2024-11-11T14:41:32.458796Z"
    }
   },
   "cell_type": "code",
   "source": [
    "# Define matrices for multiplication\n",
    "A = np.array([[1, 2], [3, 4]])\n",
    "B = np.array([[5, 6], [7, 8]])\n",
    "\n",
    "# Matrix multiplication (dot product)\n",
    "dot_product = np.dot(A, B)\n",
    "print(\"Matrix Multiplication (Dot Product):\\n\", dot_product)\n"
   ],
   "id": "39a657270b789d11",
   "outputs": [
    {
     "name": "stdout",
     "output_type": "stream",
     "text": [
      "Matrix Multiplication (Dot Product):\n",
      " [[19 22]\n",
      " [43 50]]\n"
     ]
    }
   ],
   "execution_count": 2
  }
 ],
 "metadata": {
  "kernelspec": {
   "display_name": "Python 3",
   "language": "python",
   "name": "python3"
  },
  "language_info": {
   "codemirror_mode": {
    "name": "ipython",
    "version": 2
   },
   "file_extension": ".py",
   "mimetype": "text/x-python",
   "name": "python",
   "nbconvert_exporter": "python",
   "pygments_lexer": "ipython2",
   "version": "2.7.6"
  }
 },
 "nbformat": 4,
 "nbformat_minor": 5
}
