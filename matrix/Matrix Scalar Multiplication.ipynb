{
 "cells": [
  {
   "metadata": {},
   "cell_type": "markdown",
   "source": [
    "# Scalar Multiplication\n",
    "\n",
    "### Import Library"
   ],
   "id": "86637b3b3a5018ba"
  },
  {
   "metadata": {
    "collapsed": true,
    "ExecuteTime": {
     "end_time": "2024-11-11T13:00:18.880530Z",
     "start_time": "2024-11-11T13:00:18.861248Z"
    }
   },
   "cell_type": "code",
   "source": "import numpy as np",
   "id": "initial_id",
   "outputs": [],
   "execution_count": 2
  },
  {
   "metadata": {},
   "cell_type": "markdown",
   "source": "### Declare Matrix",
   "id": "7557b42bb072dec"
  },
  {
   "metadata": {
    "ExecuteTime": {
     "end_time": "2024-11-11T13:00:18.897332Z",
     "start_time": "2024-11-11T13:00:18.886142Z"
    }
   },
   "cell_type": "code",
   "source": [
    "# Declare Matrix\n",
    "A = np.array([[1, 2], [3, 4]])\n",
    "\n",
    "# Define a scalar\n",
    "k = 3\n",
    "\n",
    "# Scalar multiplication with matrix A\n",
    "scalar_multiplication = k * A\n",
    "print(\"Scalar Multiplication:\\n\", scalar_multiplication)"
   ],
   "id": "b2a1b63fbff63ce",
   "outputs": [
    {
     "name": "stdout",
     "output_type": "stream",
     "text": [
      "Scalar Multiplication:\n",
      " [[ 3  6]\n",
      " [ 9 12]]\n"
     ]
    }
   ],
   "execution_count": 3
  }
 ],
 "metadata": {
  "kernelspec": {
   "display_name": "Python 3",
   "language": "python",
   "name": "python3"
  },
  "language_info": {
   "codemirror_mode": {
    "name": "ipython",
    "version": 2
   },
   "file_extension": ".py",
   "mimetype": "text/x-python",
   "name": "python",
   "nbconvert_exporter": "python",
   "pygments_lexer": "ipython2",
   "version": "2.7.6"
  }
 },
 "nbformat": 4,
 "nbformat_minor": 5
}
