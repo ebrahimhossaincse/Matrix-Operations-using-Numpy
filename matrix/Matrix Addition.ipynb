{
 "cells": [
  {
   "metadata": {},
   "cell_type": "markdown",
   "source": [
    "## Matrix Addition\n",
    "### Operation: Add matrices of the same dimensions by adding corresponding elements."
   ],
   "id": "fdb8a83a38b1d85f"
  },
  {
   "metadata": {},
   "cell_type": "markdown",
   "source": "### Import Numpy Library",
   "id": "986af5379defbb31"
  },
  {
   "metadata": {
    "ExecuteTime": {
     "end_time": "2024-11-11T10:28:45.985758Z",
     "start_time": "2024-11-11T10:28:45.822429Z"
    }
   },
   "cell_type": "code",
   "source": "import numpy as np",
   "id": "d9d82587d9a51e2b",
   "outputs": [],
   "execution_count": 2
  },
  {
   "metadata": {},
   "cell_type": "markdown",
   "source": "### Declare Matrix",
   "id": "89471440397461a9"
  },
  {
   "metadata": {
    "ExecuteTime": {
     "end_time": "2024-11-11T10:28:46.003101Z",
     "start_time": "2024-11-11T10:28:45.996772Z"
    }
   },
   "cell_type": "code",
   "source": [
    "# Define two matrices of the same dimensions\n",
    "A = np.array([[1, 2], [3, 4]])\n",
    "B = np.array([[5, 6], [7, 8]])\n",
    "\n",
    "# Matrix addition\n",
    "addition = A + B\n",
    "print(\"Matrix Addition:\\n\", addition)"
   ],
   "id": "f874078b32ce31f6",
   "outputs": [
    {
     "name": "stdout",
     "output_type": "stream",
     "text": [
      "Matrix Addition:\n",
      " [[ 6  8]\n",
      " [10 12]]\n"
     ]
    }
   ],
   "execution_count": 3
  }
 ],
 "metadata": {
  "kernelspec": {
   "display_name": "Python 3",
   "language": "python",
   "name": "python3"
  },
  "language_info": {
   "codemirror_mode": {
    "name": "ipython",
    "version": 2
   },
   "file_extension": ".py",
   "mimetype": "text/x-python",
   "name": "python",
   "nbconvert_exporter": "python",
   "pygments_lexer": "ipython2",
   "version": "2.7.6"
  }
 },
 "nbformat": 4,
 "nbformat_minor": 5
}
